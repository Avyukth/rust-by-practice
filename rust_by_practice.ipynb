{
 "cells": [
  {
   "cell_type": "code",
   "execution_count": 21,
   "id": "aa3e5fe2-8d31-4301-a158-6f03873baf49",
   "metadata": {
    "vscode": {
     "languageId": "rust"
    }
   },
   "outputs": [],
   "source": [
    "fn main(){\n",
    "    let x : i32 = 5 ;\n",
    "    let y : i32 ;\n",
    "    assert_eq!(x, 5);\n",
    "    println!(\"Successfully\");\n",
    "}"
   ]
  },
  {
   "cell_type": "code",
   "execution_count": 27,
   "id": "7832049a",
   "metadata": {
    "vscode": {
     "languageId": "rust"
    }
   },
   "outputs": [
    {
     "name": "stdout",
     "output_type": "stream",
     "text": [
      "Success\n"
     ]
    }
   ],
   "source": [
    "\n",
    "    let mut x =1;\n",
    "    x +=2;\n",
    "    assert_eq!(x, 3);\n",
    "    println!(\"Success\");\n",
    " "
   ]
  },
  {
   "cell_type": "code",
   "execution_count": 25,
   "id": "9cf118af",
   "metadata": {
    "vscode": {
     "languageId": "rust"
    }
   },
   "outputs": [
    {
     "name": "stdout",
     "output_type": "stream",
     "text": [
      "x = 10 and y = 5\n",
      "x = 10 and y = 5\n"
     ]
    }
   ],
   "source": [
    " \n",
    "let x :i32 =10;\n",
    "let y: i32 = 5;\n",
    "{\n",
    " \n",
    " println!(\"x = {} and y = {}\", x, y);\n",
    "}\n",
    "println!(\"x = {} and y = {}\", x, y);\n"
   ]
  },
  {
   "cell_type": "code",
   "execution_count": 28,
   "id": "0f0c0757",
   "metadata": {
    "vscode": {
     "languageId": "rust"
    }
   },
   "outputs": [
    {
     "name": "stdout",
     "output_type": "stream",
     "text": [
      "The value of x is: 5\n"
     ]
    }
   ],
   "source": [
    "fn define_x() {\n",
    "    let x = 5;\n",
    "    println!(\"The value of x is: {}\", x);\n",
    "}\n",
    "define_x();"
   ]
  },
  {
   "cell_type": "code",
   "execution_count": null,
   "id": "faf9cd4b",
   "metadata": {
    "vscode": {
     "languageId": "rust"
    }
   },
   "outputs": [],
   "source": [
    "let x : i32 = 5;\n",
    "{\n",
    "    let x = 10;\n",
    "    println!(\"The value of x is: {}\", x);\n",
    "}"
   ]
  },
  {
   "cell_type": "code",
   "execution_count": 30,
   "id": "8a2aad29",
   "metadata": {
    "vscode": {
     "languageId": "rust"
    }
   },
   "outputs": [
    {
     "name": "stdout",
     "output_type": "stream",
     "text": [
      "Success!\n"
     ]
    }
   ],
   "source": [
    "\n",
    "\n",
    "    let (x, y);\n",
    "    (x,..) = (3, 4);\n",
    "    [.., y] = [1, 2];\n",
    "    // Fill the blank to make the code work\n",
    "    assert_eq!([x,y], [3,2]);\n",
    "\n",
    "    println!(\"Success!\");\n",
    "\n"
   ]
  },
  {
   "cell_type": "code",
   "execution_count": 33,
   "id": "c4c16f4b",
   "metadata": {
    "vscode": {
     "languageId": "rust"
    }
   },
   "outputs": [
    {
     "name": "stdout",
     "output_type": "stream",
     "text": [
      "Success!\n"
     ]
    }
   ],
   "source": [
    "\n",
    "// Remove something to make it work\n",
    "    let x  = 5;\n",
    "    let mut y: u32 = 5;\n",
    "\n",
    "    y = x;\n",
    "    \n",
    "    let z = 10; // Type of z ? \n",
    "\n",
    "    println!(\"Success!\");\n",
    "\n"
   ]
  },
  {
   "cell_type": "code",
   "execution_count": 38,
   "id": "43e3cb58",
   "metadata": {
    "vscode": {
     "languageId": "rust"
    }
   },
   "outputs": [
    {
     "name": "stdout",
     "output_type": "stream",
     "text": [
      "Success!\n"
     ]
    }
   ],
   "source": [
    "\n",
    "// Get the type of given variable, return a string representation of the type  , e.g \"i8\", \"u8\", \"i32\", \"u32\"\n",
    "fn type_of<T>(_: &T) -> String {\n",
    "    format!(\"{}\", std::any::type_name::<T>())\n",
    "} \n",
    "\n",
    "// Modify `assert_eq!` to make it work\n",
    "\n",
    "    let x = 5;\n",
    "    assert_eq!(\"i32\".to_string(), type_of(&x));\n",
    "\n",
    "    println!(\"Success!\");\n",
    "\n",
    "\n",
    "\n"
   ]
  },
  {
   "attachments": {},
   "cell_type": "markdown",
   "id": "7657207f",
   "metadata": {},
   "source": [
    "# Tuple"
   ]
  },
  {
   "cell_type": "code",
   "execution_count": 2,
   "metadata": {
    "vscode": {
     "languageId": "rust"
    }
   },
   "outputs": [],
   "source": [
    "\n",
    "fn main() {\n",
    "    let _t0: (u8,i16) = (0, -1);\n",
    "    // Tuples can be tuple's members\n",
    "    let _t1: (u8, (i16, u32)) = (0, (-1, 1));\n",
    "    // Fill the blanks to make the code work\n",
    "    let t: (u8, u16, i64, &str, String) = (1u8, 2u16, 3i64, \"hello\", String::from(\", world\"));\n",
    "\n",
    "    println!(\"Success!\");\n",
    "}"
   ]
  },
  {
   "cell_type": "code",
   "execution_count": 3,
   "id": "8ea1f5c1",
   "metadata": {
    "vscode": {
     "languageId": "rust"
    }
   },
   "outputs": [],
   "source": [
    "\n",
    "// Make it work\n",
    "fn main() {\n",
    "    let t = (\"i\", \"am\", \"sunface\");\n",
    "    assert_eq!(t.2, \"sunface\");\n",
    "\n",
    "    println!(\"Success!\");\n",
    "}"
   ]
  },
  {
   "cell_type": "code",
   "execution_count": null,
   "id": "0466501f",
   "metadata": {
    "vscode": {
     "languageId": "rust"
    }
   },
   "outputs": [],
   "source": []
  }
 ],
 "metadata": {
  "kernelspec": {
   "display_name": "Rust",
   "language": "rust",
   "name": "rust"
  },
  "language_info": {
   "codemirror_mode": "rust",
   "file_extension": ".rs",
   "mimetype": "text/rust",
   "name": "Rust",
   "pygment_lexer": "rust",
   "version": ""
  }
 },
 "nbformat": 4,
 "nbformat_minor": 5
}
