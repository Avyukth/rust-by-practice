{
 "cells": [
  {
   "cell_type": "code",
   "execution_count": 7,
   "id": "aa3e5fe2-8d31-4301-a158-6f03873baf49",
   "metadata": {
    "vscode": {
     "languageId": "rust"
    }
   },
   "outputs": [],
   "source": [
    "fn main(){\n",
    "    let x : i32 = 5 ;\n",
    "    let y : i32 ;\n",
    "    assert_eq!(x, 5);\n",
    "    println!(\"Successfully\");\n",
    "}"
   ]
  },
  {
   "cell_type": "code",
   "execution_count": 8,
   "id": "7832049a",
   "metadata": {
    "vscode": {
     "languageId": "rust"
    }
   },
   "outputs": [
    {
     "name": "stdout",
     "output_type": "stream",
     "text": [
      "Success\n"
     ]
    }
   ],
   "source": [
    "\n",
    "    let mut x =1;\n",
    "    x +=2;\n",
    "    assert_eq!(x, 3);\n",
    "    println!(\"Success\");\n",
    " "
   ]
  },
  {
   "cell_type": "code",
   "execution_count": 9,
   "id": "9cf118af",
   "metadata": {
    "vscode": {
     "languageId": "rust"
    }
   },
   "outputs": [
    {
     "name": "stdout",
     "output_type": "stream",
     "text": [
      "x = 10 and y = 5\n",
      "x = 10 and y = 5\n"
     ]
    }
   ],
   "source": [
    " \n",
    "let x :i32 =10;\n",
    "let y: i32 = 5;\n",
    "{\n",
    " \n",
    " println!(\"x = {} and y = {}\", x, y);\n",
    "}\n",
    "println!(\"x = {} and y = {}\", x, y);\n"
   ]
  },
  {
   "cell_type": "code",
   "execution_count": 10,
   "id": "0f0c0757",
   "metadata": {
    "vscode": {
     "languageId": "rust"
    }
   },
   "outputs": [
    {
     "name": "stdout",
     "output_type": "stream",
     "text": [
      "The value of x is: 5\n"
     ]
    }
   ],
   "source": [
    "fn define_x() {\n",
    "    let x = 5;\n",
    "    println!(\"The value of x is: {}\", x);\n",
    "}\n",
    "define_x();"
   ]
  },
  {
   "cell_type": "code",
   "execution_count": 11,
   "id": "faf9cd4b",
   "metadata": {
    "vscode": {
     "languageId": "rust"
    }
   },
   "outputs": [
    {
     "name": "stdout",
     "output_type": "stream",
     "text": [
      "The value of x is: 10\n"
     ]
    },
    {
     "data": {
      "text/plain": [
       "()"
      ]
     },
     "execution_count": 11,
     "metadata": {},
     "output_type": "execute_result"
    }
   ],
   "source": [
    "let x : i32 = 5;\n",
    "{\n",
    "    let x = 10;\n",
    "    println!(\"The value of x is: {}\", x);\n",
    "}"
   ]
  },
  {
   "cell_type": "code",
   "execution_count": 12,
   "id": "8a2aad29",
   "metadata": {
    "vscode": {
     "languageId": "rust"
    }
   },
   "outputs": [
    {
     "name": "stdout",
     "output_type": "stream",
     "text": [
      "Success!\n"
     ]
    }
   ],
   "source": [
    "\n",
    "\n",
    "    let (x, y);\n",
    "    (x,..) = (3, 4);\n",
    "    [.., y] = [1, 2];\n",
    "    // Fill the blank to make the code work\n",
    "    assert_eq!([x,y], [3,2]);\n",
    "\n",
    "    println!(\"Success!\");\n",
    "\n"
   ]
  },
  {
   "cell_type": "code",
   "execution_count": 13,
   "id": "c4c16f4b",
   "metadata": {
    "vscode": {
     "languageId": "rust"
    }
   },
   "outputs": [
    {
     "name": "stdout",
     "output_type": "stream",
     "text": [
      "Success!\n"
     ]
    }
   ],
   "source": [
    "\n",
    "// Remove something to make it work\n",
    "    let x  = 5;\n",
    "    let mut y: u32 = 5;\n",
    "\n",
    "    y = x;\n",
    "    \n",
    "    let z = 10; // Type of z ? \n",
    "\n",
    "    println!(\"Success!\");\n",
    "\n"
   ]
  },
  {
   "cell_type": "code",
   "execution_count": 14,
   "id": "43e3cb58",
   "metadata": {
    "vscode": {
     "languageId": "rust"
    }
   },
   "outputs": [
    {
     "name": "stdout",
     "output_type": "stream",
     "text": [
      "Success!\n"
     ]
    }
   ],
   "source": [
    "\n",
    "// Get the type of given variable, return a string representation of the type  , e.g \"i8\", \"u8\", \"i32\", \"u32\"\n",
    "fn type_of<T>(_: &T) -> String {\n",
    "    format!(\"{}\", std::any::type_name::<T>())\n",
    "} \n",
    "\n",
    "// Modify `assert_eq!` to make it work\n",
    "\n",
    "    let x = 5;\n",
    "    assert_eq!(\"i32\".to_string(), type_of(&x));\n",
    "\n",
    "    println!(\"Success!\");\n",
    "\n",
    "\n",
    "\n"
   ]
  },
  {
   "attachments": {},
   "cell_type": "markdown",
   "id": "7657207f",
   "metadata": {},
   "source": [
    "# Tuple"
   ]
  },
  {
   "cell_type": "code",
   "execution_count": 15,
   "metadata": {
    "vscode": {
     "languageId": "rust"
    }
   },
   "outputs": [],
   "source": [
    "\n",
    "fn main() {\n",
    "    let _t0: (u8,i16) = (0, -1);\n",
    "    // Tuples can be tuple's members\n",
    "    let _t1: (u8, (i16, u32)) = (0, (-1, 1));\n",
    "    // Fill the blanks to make the code work\n",
    "    let t: (u8, u16, i64, &str, String) = (1u8, 2u16, 3i64, \"hello\", String::from(\", world\"));\n",
    "\n",
    "    println!(\"Success!\");\n",
    "}"
   ]
  },
  {
   "cell_type": "code",
   "execution_count": 16,
   "id": "8ea1f5c1",
   "metadata": {
    "vscode": {
     "languageId": "rust"
    }
   },
   "outputs": [],
   "source": [
    "\n",
    "// Make it work\n",
    "fn main() {\n",
    "    let t = (\"i\", \"am\", \"sunface\");\n",
    "    assert_eq!(t.2, \"sunface\");\n",
    "\n",
    "    println!(\"Success!\");\n",
    "}"
   ]
  },
  {
   "cell_type": "code",
   "execution_count": 17,
   "id": "0466501f",
   "metadata": {
    "vscode": {
     "languageId": "rust"
    }
   },
   "outputs": [],
   "source": [
    "\n",
    "fn main() {\n",
    "    // Fill the blank, need a few computations here.\n",
    "    let (x, y) = sum_multiply((2,3));\n",
    "\n",
    "    assert_eq!(x, 5);\n",
    "    assert_eq!(y, 6);\n",
    "\n",
    "    println!(\"Success!\");\n",
    "}\n",
    "\n",
    "fn sum_multiply(nums: (i32, i32)) -> (i32, i32) {\n",
    "    (nums.0 + nums.1, nums.0 * nums.1)\n",
    "}\n"
   ]
  },
  {
   "attachments": {},
   "cell_type": "markdown",
   "id": "ad52cb27",
   "metadata": {},
   "source": [
    "# Struct"
   ]
  },
  {
   "cell_type": "code",
   "execution_count": 18,
   "id": "7f83ee3c",
   "metadata": {
    "vscode": {
     "languageId": "rust"
    }
   },
   "outputs": [
    {
     "ename": "Error",
     "evalue": "missing field `hobby` in initializer of `Person`",
     "output_type": "error",
     "traceback": [
      "\u001b[31m[E0063] Error:\u001b[0m missing field `hobby` in initializer of `Person`"
     ]
    }
   ],
   "source": [
    "\n",
    "// Fix the error\n",
    "struct Person {\n",
    "    name: String,\n",
    "    age: u8,\n",
    "    hobby: String\n",
    "}\n",
    "fn main() {\n",
    "    let age = 30;\n",
    "    let p = Person {\n",
    "        name: String::from(\"sunface\"),\n",
    "        age,\n",
    "        hobby:String::from(\"Cricekt\")\n",
    "    };\n",
    "\n",
    "    println!(\"Success!\");\n",
    "} \n"
   ]
  },
  {
   "cell_type": "code",
   "execution_count": null,
   "id": "0c8fbccc",
   "metadata": {
    "vscode": {
     "languageId": "rust"
    }
   },
   "outputs": [],
   "source": [
    "\n",
    "struct Unit;\n",
    "trait SomeTrait {\n",
    "    // ...Some behaviors defined here.\n",
    "}\n",
    "\n",
    "// We don't care about what fields  are  in the Unit, but we care about its behaviors.\n",
    "// So we use a struct with no fields and implement some behaviors for it\n",
    "impl SomeTrait for Unit {  }\n",
    "fn main() {\n",
    "    let u = Unit;\n",
    "    do_something_with_unit(u);\n",
    "\n",
    "    println!(\"Success!\");\n",
    "} \n",
    "\n",
    "// Fill the blank to make the code work\n",
    "fn do_something_with_unit(u: Unit) {   }\n"
   ]
  },
  {
   "cell_type": "code",
   "execution_count": null,
   "id": "0554a12e",
   "metadata": {
    "vscode": {
     "languageId": "rust"
    }
   },
   "outputs": [],
   "source": [
    "\n",
    "// Fix the error and fill the blanks\n",
    "struct Color(i32, i32, i32);\n",
    "struct Point(i32, i32, i32);\n",
    "fn main() {\n",
    "    let v = Color(0 , 127, 255);\n",
    "    check_color(v);\n",
    "\n",
    "    println!(\"Success!\");\n",
    "}   \n",
    "\n",
    "fn check_color(p: Color) {\n",
    "    let Color(x, _, _) = p;\n",
    "    assert_eq!(x, 0);\n",
    "    assert_eq!(p.1, 127);\n",
    "    assert_eq!(p.2, 255);\n",
    " }\n"
   ]
  },
  {
   "cell_type": "code",
   "execution_count": null,
   "id": "54fa5341",
   "metadata": {
    "vscode": {
     "languageId": "rust"
    }
   },
   "outputs": [],
   "source": [
    "\n",
    "// Fill the blank and fix the error without adding/removing new line\n",
    "struct Person {\n",
    "    name: String,\n",
    "    age: u8,\n",
    "}\n",
    "fn main() {\n",
    "    let age = 18;\n",
    "    let mut p = Person {\n",
    "         name: String::from(\"sunface\"),\n",
    "        age,\n",
    "    };\n",
    "\n",
    "    // How can you believe sunface is only 18? \n",
    "    p.age = 30;\n",
    "\n",
    "    // Fill the blank\n",
    "    p.name = String::from(\"sunfei\");\n",
    "\n",
    "    println!(\"Success!\");\n",
    "}\n"
   ]
  },
  {
   "cell_type": "code",
   "execution_count": null,
   "id": "c2012196",
   "metadata": {
    "vscode": {
     "languageId": "rust"
    }
   },
   "outputs": [],
   "source": [
    "\n",
    "// Fill the blank\n",
    "struct Person {\n",
    "    name: String,\n",
    "    age: u8,\n",
    "}\n",
    "fn main() {\n",
    "    println!(\"Success!\");\n",
    "} \n",
    "\n",
    "fn build_person(name: String, age: u8) -> Person {\n",
    "    Person {\n",
    "        age,\n",
    "        name\n",
    "    }\n",
    "}\n"
   ]
  },
  {
   "cell_type": "code",
   "execution_count": null,
   "id": "c7a06b91",
   "metadata": {
    "vscode": {
     "languageId": "rust"
    }
   },
   "outputs": [],
   "source": [
    "\n",
    "// Fill the blank to make the code work\n",
    "struct User {\n",
    "    active: bool,\n",
    "    username: String,\n",
    "    email: String,\n",
    "    sign_in_count: u64,\n",
    "}\n",
    "fn main() {\n",
    "    let mut u1 = User {\n",
    "        email: String::from(\"someone@example.com\"),\n",
    "        username: String::from(\"sunface\"),\n",
    "        active: true,\n",
    "        sign_in_count: 1,\n",
    "    };\n",
    "\n",
    "    let u2 = set_email(u1);\n",
    "\n",
    "    println!(\"Success!\");\n",
    "} \n",
    "\n",
    "fn set_email(u: User) -> User {\n",
    "    User {\n",
    "        email: String::from(\"contact@im.dev\"),\n",
    "        ..u\n",
    "    }\n",
    "}\n"
   ]
  },
  {
   "cell_type": "code",
   "execution_count": null,
   "id": "de39621d",
   "metadata": {
    "vscode": {
     "languageId": "rust"
    }
   },
   "outputs": [],
   "source": [
    "\n",
    "// Fill the blanks to make the code work\n",
    "#[derive(Debug)]\n",
    "struct Rectangle {\n",
    "    width: u32,\n",
    "    height: u32,\n",
    "}\n",
    "\n",
    "fn main() {\n",
    "    let scale = 2;\n",
    "    let rect1 = Rectangle {\n",
    "        width: dbg!(30 * scale), // Print debug info to stderr and assign the value of  `30 * scale` to `width`\n",
    "        height: 50,\n",
    "    };\n",
    "\n",
    "    dbg!(&rect1); // Print debug info to stderr\n",
    "\n",
    "    println!(\"{:?}\", rect1); // Print debug info to stdout\n",
    "}\n"
   ]
  },
  {
   "cell_type": "code",
   "execution_count": null,
   "id": "b38b6e76",
   "metadata": {
    "vscode": {
     "languageId": "rust"
    }
   },
   "outputs": [],
   "source": [
    "\n",
    "// Fix errors to make it work\n",
    "#[derive(Debug)]\n",
    "struct File {\n",
    "    name: String,\n",
    "    data: String,\n",
    "}\n",
    "fn main() {\n",
    "    let f = File {\n",
    "        name: String::from(\"readme.md\"),\n",
    "        data: \"Rust By Practice\".to_string()\n",
    "    };\n",
    "\n",
    "    let _name = f.name;\n",
    "\n",
    "    // ONLY modify this line\n",
    "    println!(\"{}\", f.data);\n",
    "} \n"
   ]
  },
  {
   "cell_type": "markdown",
   "id": "d6357734",
   "metadata": {},
   "source": [
    "# Enum"
   ]
  },
  {
   "cell_type": "code",
   "execution_count": null,
   "id": "a8789cce",
   "metadata": {
    "vscode": {
     "languageId": "rust"
    }
   },
   "outputs": [],
   "source": [
    "\n",
    "// Fix the errors\n",
    "enum Number {\n",
    "    Zero=0,\n",
    "    One,\n",
    "    Two,\n",
    "}\n",
    "\n",
    "enum Number1 {\n",
    "    Zero = 0,\n",
    "    One,\n",
    "    Two,\n",
    "}\n",
    "\n",
    "// C-like enum\n",
    "enum Number2 {\n",
    "    Zero = 0,\n",
    "    One ,\n",
    "    Two ,\n",
    "}\n",
    "\n",
    "\n",
    "fn main() {\n",
    "    // An enum variant can be converted to a integer by `as`\n",
    "    assert_eq!(Number::One as u8, Number1::One as u8);\n",
    "    assert_eq!(Number1::One as u8, Number2::One as u8);\n",
    "\n",
    "    println!(\"Success!\");\n",
    "} \n"
   ]
  },
  {
   "cell_type": "code",
   "execution_count": null,
   "id": "a59fdb0a",
   "metadata": {
    "vscode": {
     "languageId": "rust"
    }
   },
   "outputs": [],
   "source": [
    "\n",
    "// Fill in the blank\n",
    "enum Message {\n",
    "    Quit,\n",
    "    Move { x: i32, y: i32 },\n",
    "    Write(String),\n",
    "    ChangeColor(i32, i32, i32),\n",
    "}\n",
    "\n",
    "fn main() {\n",
    "    let msg1 = Message::Move{x:1, y:2}; // Instantiating with x = 1, y = 2 \n",
    "    let msg2 = Message::Write(String::from(\"Hello World!\")); // Instantiating with \"hello, world!\"\n",
    "\n",
    "    println!(\"Success!\");\n",
    "} \n"
   ]
  },
  {
   "cell_type": "code",
   "execution_count": 22,
   "id": "2e700eb7",
   "metadata": {
    "vscode": {
     "languageId": "rust"
    }
   },
   "outputs": [
    {
     "name": "stdout",
     "output_type": "stream",
     "text": [
      "Success!\n"
     ]
    }
   ],
   "source": [
    "\n",
    "// Fill in the blank and fix the error\n",
    "enum Message {\n",
    "    Quit,\n",
    "    Move { x: i32, y: i32 },\n",
    "    Write(String),\n",
    "    ChangeColor(i32, i32, i32),\n",
    "}\n",
    "\n",
    "\n",
    "    let msg:Message = Message::Move{x: 1, y: 1};\n",
    "\n",
    "    if let Message::Move{x: a, y: b} = msg {\n",
    "        assert_eq!(a, b);\n",
    "    } else {\n",
    "        panic!(\"NEVER LET THIS RUN！\");\n",
    "    }\n",
    "\n",
    "    println!(\"Success!\");\n",
    "\n"
   ]
  },
  {
   "cell_type": "code",
   "execution_count": 23,
   "id": "df8f706d",
   "metadata": {
    "vscode": {
     "languageId": "rust"
    }
   },
   "outputs": [],
   "source": [
    "\n",
    "// Fill in the blank and fix the errors\n",
    "#[derive(Debug)]\n",
    "enum Message {\n",
    "    Quit,\n",
    "    Move { x: i32, y: i32 },\n",
    "    Write(String),\n",
    "    ChangeColor(i32, i32, i32),\n",
    "}\n",
    "\n",
    "fn main() {\n",
    "    let msgs: [Message; 3] = [\n",
    "        Message::Quit,\n",
    "        Message::Move{x:1, y:3},\n",
    "        Message::ChangeColor(255,255,0)\n",
    "    ];\n",
    "\n",
    "    for msg in msgs {\n",
    "        show_message(msg)\n",
    "    }\n",
    "} \n",
    "\n",
    "fn show_message(msg: Message) {\n",
    "    println!(\"{:?}\", msg);\n",
    "}\n"
   ]
  },
  {
   "cell_type": "code",
   "execution_count": 24,
   "id": "5d9a44fd",
   "metadata": {
    "vscode": {
     "languageId": "rust"
    }
   },
   "outputs": [],
   "source": [
    "\n",
    "// Fill in the blank to make the `println` work.\n",
    "// Also add some code to prevent the `panic` from running.\n",
    "fn main() {\n",
    "    let five = Some(5);\n",
    "    let six = plus_one(five);\n",
    "    let none = plus_one(None);\n",
    "\n",
    "    if let Some(n) = six {\n",
    "        println!(\"{}\", n);\n",
    "\n",
    "        println!(\"Success!\");\n",
    "    } else{\n",
    "        panic!(\"NEVER LET THIS RUN！\");\n",
    "    }\n",
    "        \n",
    "    \n",
    "} \n",
    "\n",
    "fn plus_one(x: Option<i32>) -> Option<i32> {\n",
    "    match x {\n",
    "        None => None,\n",
    "        Some(i) => Some(i + 1),\n",
    "    }\n",
    "}\n"
   ]
  },
  {
   "cell_type": "code",
   "execution_count": null,
   "id": "64d50eee",
   "metadata": {
    "vscode": {
     "languageId": "rust"
    }
   },
   "outputs": [],
   "source": []
  },
  {
   "cell_type": "markdown",
   "id": "16eeb3e2",
   "metadata": {},
   "source": [
    "# Flow Control"
   ]
  },
  {
   "cell_type": "code",
   "execution_count": 25,
   "id": "3a1d139f",
   "metadata": {
    "vscode": {
     "languageId": "rust"
    }
   },
   "outputs": [],
   "source": [
    "\n",
    "// Fill in the blanks\n",
    "fn main() {\n",
    "    let n = 5;\n",
    "\n",
    "    if n < 0 {\n",
    "        println!(\"{} is negative\", n);\n",
    "    } else if n > 0 {\n",
    "        println!(\"{} is positive\", n);\n",
    "    } else {\n",
    "        println!(\"{} is zero\", n);\n",
    "    }\n",
    "} \n"
   ]
  },
  {
   "cell_type": "code",
   "execution_count": 26,
   "id": "6eb499a7",
   "metadata": {
    "vscode": {
     "languageId": "rust"
    }
   },
   "outputs": [],
   "source": [
    "\n",
    "// Fix the errors\n",
    "fn main() {\n",
    "    let n = 5;\n",
    "\n",
    "    let big_n =\n",
    "        if n < 10 && n > -10 {\n",
    "            println!(\", and is a small number, increase ten-fold\");\n",
    "\n",
    "            10 * n \n",
    "        } else {\n",
    "            println!(\", and is a big number, halve the number\");\n",
    "\n",
    "            n / 2.0 as i32\n",
    "        };\n",
    "\n",
    "    println!(\"{} -> {}\", n, big_n);\n",
    "} \n"
   ]
  },
  {
   "cell_type": "code",
   "execution_count": 27,
   "id": "7d0b85a0",
   "metadata": {
    "vscode": {
     "languageId": "rust"
    }
   },
   "outputs": [],
   "source": [
    "\n",
    "fn main() {\n",
    "    for n in 1..100 { // modify this line to make the code work\n",
    "        if n == 100 {\n",
    "            panic!(\"NEVER LET THIS RUN\")\n",
    "        }\n",
    "    }\n",
    "\n",
    "    println!(\"Success!\");\n",
    "} \n"
   ]
  },
  {
   "cell_type": "code",
   "execution_count": 28,
   "id": "6a8c2e87",
   "metadata": {
    "vscode": {
     "languageId": "rust"
    }
   },
   "outputs": [],
   "source": [
    "\n",
    "// Fix the errors without adding or removing lines\n",
    "fn main() {\n",
    "    let names = [String::from(\"liming\"),String::from(\"hanmeimei\")];\n",
    "    for name in &names {\n",
    "        // Do something with name...\n",
    "        println!(\"{:?}\", name);\n",
    "    }\n",
    "\n",
    "    println!(\"{:?}\", names);\n",
    "\n",
    "    let numbers = [1, 2, 3];\n",
    "    // The elements in numbers are Copy，so there is no move here\n",
    "    for n in numbers {\n",
    "        // Do something with name...\n",
    "        println!(\"{:?}\", numbers);\n",
    "    }\n",
    "    \n",
    "    println!(\"{:?}\", numbers);\n",
    "} \n"
   ]
  },
  {
   "cell_type": "code",
   "execution_count": 29,
   "id": "e92de040",
   "metadata": {
    "vscode": {
     "languageId": "rust"
    }
   },
   "outputs": [],
   "source": [
    "fn main() {\n",
    "    let a = [4, 3, 2, 1];\n",
    "\n",
    "    // Iterate the indexing and value in 'a'\n",
    "    for (i,v) in a.iter().enumerate() {\n",
    "        println!(\"The {}th element is {}\",i+1,v);\n",
    "    }\n",
    "}\n"
   ]
  },
  {
   "cell_type": "code",
   "execution_count": 30,
   "id": "dd783a80",
   "metadata": {
    "vscode": {
     "languageId": "rust"
    }
   },
   "outputs": [],
   "source": [
    "\n",
    "// Fill in the blanks to make the last println! work !\n",
    "fn main() {\n",
    "    // A counter variable\n",
    "    let mut n = 1;\n",
    "\n",
    "    // Loop while the condition is true\n",
    "    while n <= 10 {\n",
    "        if n % 15 == 0 {\n",
    "            println!(\"fizzbuzz\");\n",
    "        } else if n % 3 == 0 {\n",
    "            println!(\"fizz\");\n",
    "        } else if n % 5 == 0 {\n",
    "            println!(\"buzz\");\n",
    "        } else {\n",
    "            println!(\"{}\", n);\n",
    "        }\n",
    "\n",
    "\n",
    "        n+=1;\n",
    "    }\n",
    "\n",
    "    println!(\"n reached {}, so loop is over\",n);\n",
    "}\n"
   ]
  },
  {
   "cell_type": "code",
   "execution_count": 31,
   "id": "00ab2023",
   "metadata": {
    "vscode": {
     "languageId": "rust"
    }
   },
   "outputs": [],
   "source": [
    "\n",
    "// Fill in the blank\n",
    "fn main() {\n",
    "    let mut n = 0;\n",
    "    for i in 0..=100 {\n",
    "       if n == 66 {\n",
    "           break;\n",
    "       }\n",
    "       n += 1;\n",
    "    }\n",
    "\n",
    "    assert_eq!(n, 66);\n",
    "\n",
    "    println!(\"Success!\");\n",
    "}\n"
   ]
  },
  {
   "cell_type": "code",
   "execution_count": 32,
   "id": "98515cd1",
   "metadata": {
    "vscode": {
     "languageId": "rust"
    }
   },
   "outputs": [],
   "source": [
    "\n",
    "// Fill in the blanks\n",
    "fn main() {\n",
    "    let mut n = 0;\n",
    "    for i in 0..=100 {\n",
    "       if n != 66 {\n",
    "           n+=1;\n",
    "           continue;\n",
    "       }\n",
    "       \n",
    "       break;\n",
    "    }\n",
    "\n",
    "    assert_eq!(n, 66);\n",
    "\n",
    "    println!(\"Success!\");\n",
    "}\n"
   ]
  },
  {
   "cell_type": "code",
   "execution_count": 33,
   "id": "f32a1652",
   "metadata": {
    "vscode": {
     "languageId": "rust"
    }
   },
   "outputs": [],
   "source": [
    "\n",
    "// Fill in the blanks\n",
    "fn main() {\n",
    "    let mut count = 0u32;\n",
    "\n",
    "    println!(\"Let's count until infinity!\");\n",
    "\n",
    "    // Infinite loop\n",
    "    loop {\n",
    "        count += 1;\n",
    "\n",
    "        if count == 3 {\n",
    "            println!(\"three\");\n",
    "\n",
    "            // Skip the rest of this iteration\n",
    "            continue;\n",
    "        }\n",
    "\n",
    "        println!(\"{}\", count);\n",
    "\n",
    "        if count == 5 {\n",
    "            println!(\"OK, that's enough\");\n",
    "\n",
    "            break;\n",
    "        }\n",
    "    }\n",
    "\n",
    "    assert_eq!(count, 5);\n",
    "\n",
    "    println!(\"Success!\");\n",
    "}\n"
   ]
  },
  {
   "cell_type": "code",
   "execution_count": 34,
   "id": "85efdda4",
   "metadata": {
    "vscode": {
     "languageId": "rust"
    }
   },
   "outputs": [],
   "source": [
    "\n",
    "// Fill in the blank\n",
    "fn main() {\n",
    "    let mut counter = 0;\n",
    "\n",
    "    let result = loop {\n",
    "        counter += 1;\n",
    "\n",
    "        if counter == 10 {\n",
    "            break counter*2;\n",
    "        }\n",
    "    };\n",
    "\n",
    "    assert_eq!(result, 20);\n",
    "\n",
    "    println!(\"Success!\");\n",
    "}\n"
   ]
  },
  {
   "cell_type": "code",
   "execution_count": 35,
   "id": "21e4dac4",
   "metadata": {
    "vscode": {
     "languageId": "rust"
    }
   },
   "outputs": [],
   "source": [
    "\n",
    "// Fill in the blank\n",
    "fn main() {\n",
    "    let mut count = 0;\n",
    "    'outer: loop {\n",
    "        'inner1: loop {\n",
    "            if count >= 20 {\n",
    "                // This would break only the inner1 loop\n",
    "                break 'inner1; // `break` is also works.\n",
    "            }\n",
    "            count += 2;\n",
    "        }\n",
    "\n",
    "        count += 5;\n",
    "\n",
    "        'inner2: loop {\n",
    "            if count >= 30 {\n",
    "                // This breaks the outer loop\n",
    "                break 'outer;\n",
    "            }\n",
    "\n",
    "            // This will continue the outer loop\n",
    "            continue 'outer;\n",
    "        }\n",
    "    }\n",
    "\n",
    "    assert!(count == 30);\n",
    "\n",
    "    println!(\"Success!\");\n",
    "}\n"
   ]
  },
  {
   "cell_type": "markdown",
   "id": "7b8a59a3",
   "metadata": {},
   "source": [
    "# Pattern Match"
   ]
  },
  {
   "cell_type": "code",
   "execution_count": 36,
   "id": "a1bc1336",
   "metadata": {
    "vscode": {
     "languageId": "rust"
    }
   },
   "outputs": [],
   "source": [
    "\n",
    "// Fill the blanks\n",
    "enum Direction {\n",
    "    East,\n",
    "    West,\n",
    "    North,\n",
    "    South,\n",
    "}\n",
    "\n",
    "fn main() {\n",
    "    let dire = Direction::South;\n",
    "    match dire {\n",
    "        Direction::East => println!(\"East\"),\n",
    "        Direction::North | Direction::South  => { // Matching South or North here\n",
    "            println!(\"South or North\");\n",
    "        },\n",
    "        _ => println!(\"West\"),\n",
    "    };\n",
    "}\n"
   ]
  },
  {
   "cell_type": "code",
   "execution_count": 37,
   "id": "070a5123",
   "metadata": {
    "vscode": {
     "languageId": "rust"
    }
   },
   "outputs": [],
   "source": [
    "\n",
    "fn main() {\n",
    "    let boolean = true;\n",
    "\n",
    "    // Fill the blank with a match expression:\n",
    "    //\n",
    "    // boolean = true => binary = 1\n",
    "    // boolean = false =>  binary = 0\n",
    "    let binary = 1;\n",
    "\n",
    "    assert_eq!(binary, 1);\n",
    "\n",
    "    println!(\"Success!\");\n",
    "}\n"
   ]
  },
  {
   "cell_type": "code",
   "execution_count": 2,
   "id": "6dfa0bf6",
   "metadata": {
    "vscode": {
     "languageId": "rust"
    }
   },
   "outputs": [],
   "source": [
    "\n",
    "// Fill in the blanks\n",
    "enum Message {\n",
    "    Quit,\n",
    "    Move { x: i32, y: i32 },\n",
    "    Write(String),\n",
    "    ChangeColor(i32, i32, i32),\n",
    "}\n",
    "\n",
    "fn main() {\n",
    "    let msgs = [\n",
    "        Message::Quit,\n",
    "        Message::Move{x:1, y:3},\n",
    "        Message::ChangeColor(255,255,0)\n",
    "    ];\n",
    "\n",
    "    for msg in msgs {\n",
    "        show_message(msg)\n",
    "    }\n",
    "\n",
    "    println!(\"Success!\");\n",
    "} \n",
    "\n",
    "fn show_message(msg: Message) {\n",
    "    match msg {\n",
    "        Message::Move{x: a, y: b} => { // match  Message::Move\n",
    "            assert_eq!(a, 1);\n",
    "            assert_eq!(b, 3);\n",
    "        },\n",
    "        Message::ChangeColor(_, g, b) => {\n",
    "            assert_eq!(g, 255);\n",
    "            assert_eq!(b, 0);\n",
    "        }\n",
    "        __ => println!(\"no data in these variants\")\n",
    "    }\n",
    "}\n"
   ]
  },
  {
   "cell_type": "code",
   "execution_count": 3,
   "id": "54005b48",
   "metadata": {
    "vscode": {
     "languageId": "rust"
    }
   },
   "outputs": [],
   "source": [
    "\n",
    "fn main() {\n",
    "    let alphabets = ['a', 'E', 'Z', '0', 'x', '9' , 'Y'];\n",
    "\n",
    "    // Fill the blank with `matches!` to make the code work\n",
    "    for ab in alphabets {\n",
    "        assert!(matches!(ab, 'a'..='z' | 'A'..='Z' | '0'..='9'))\n",
    "    }\n",
    "\n",
    "    println!(\"Success!\");\n",
    "} \n"
   ]
  },
  {
   "cell_type": "code",
   "execution_count": null,
   "id": "421a2aa6",
   "metadata": {
    "vscode": {
     "languageId": "rust"
    }
   },
   "outputs": [],
   "source": [
    "\n",
    "enum MyEnum {\n",
    "    Foo,\n",
    "    Bar\n",
    "}\n",
    "\n",
    "fn main() {\n",
    "    let mut count = 0;\n",
    "\n",
    "    let v = vec![MyEnum::Foo,MyEnum::Bar,MyEnum::Foo];\n",
    "    for e in v {\n",
    "        if matches!(e , MyEnum::Foo) { // Fix the error by changing only this line\n",
    "            count += 1;\n",
    "        }\n",
    "    }\n",
    "\n",
    "    assert_eq!(count, 2);\n",
    "\n",
    "    println!(\"Success!\");\n",
    "}"
   ]
  }
 ],
 "metadata": {
  "kernelspec": {
   "display_name": "Rust",
   "language": "rust",
   "name": "rust"
  },
  "language_info": {
   "codemirror_mode": "rust",
   "file_extension": ".rs",
   "mimetype": "text/rust",
   "name": "Rust",
   "pygment_lexer": "rust",
   "version": ""
  }
 },
 "nbformat": 4,
 "nbformat_minor": 5
}
