{
 "cells": [
  {
   "cell_type": "code",
   "execution_count": 21,
   "id": "aa3e5fe2-8d31-4301-a158-6f03873baf49",
   "metadata": {
    "vscode": {
     "languageId": "rust"
    }
   },
   "outputs": [],
   "source": [
    "fn main(){\n",
    "    let x : i32 = 5 ;\n",
    "    let y : i32 ;\n",
    "    assert_eq!(x, 5);\n",
    "    println!(\"Successfully\");\n",
    "}"
   ]
  },
  {
   "cell_type": "code",
   "execution_count": 27,
   "id": "7832049a",
   "metadata": {
    "vscode": {
     "languageId": "rust"
    }
   },
   "outputs": [
    {
     "name": "stdout",
     "output_type": "stream",
     "text": [
      "Success\n"
     ]
    }
   ],
   "source": [
    "\n",
    "    let mut x =1;\n",
    "    x +=2;\n",
    "    assert_eq!(x, 3);\n",
    "    println!(\"Success\");\n",
    " "
   ]
  },
  {
   "cell_type": "code",
   "execution_count": 25,
   "id": "9cf118af",
   "metadata": {
    "vscode": {
     "languageId": "rust"
    }
   },
   "outputs": [
    {
     "name": "stdout",
     "output_type": "stream",
     "text": [
      "x = 10 and y = 5\n",
      "x = 10 and y = 5\n"
     ]
    }
   ],
   "source": [
    " \n",
    "let x :i32 =10;\n",
    "let y: i32 = 5;\n",
    "{\n",
    " \n",
    " println!(\"x = {} and y = {}\", x, y);\n",
    "}\n",
    "println!(\"x = {} and y = {}\", x, y);\n"
   ]
  },
  {
   "cell_type": "code",
   "execution_count": 28,
   "id": "0f0c0757",
   "metadata": {
    "vscode": {
     "languageId": "rust"
    }
   },
   "outputs": [
    {
     "name": "stdout",
     "output_type": "stream",
     "text": [
      "The value of x is: 5\n"
     ]
    }
   ],
   "source": [
    "fn define_x() {\n",
    "    let x = 5;\n",
    "    println!(\"The value of x is: {}\", x);\n",
    "}\n",
    "define_x();"
   ]
  },
  {
   "cell_type": "code",
   "execution_count": null,
   "id": "faf9cd4b",
   "metadata": {
    "vscode": {
     "languageId": "rust"
    }
   },
   "outputs": [],
   "source": [
    "let x : i32 = 5;\n",
    "{\n",
    "    let x = 10;\n",
    "    println!(\"The value of x is: {}\", x);\n",
    "}"
   ]
  },
  {
   "cell_type": "code",
   "execution_count": 30,
   "id": "8a2aad29",
   "metadata": {
    "vscode": {
     "languageId": "rust"
    }
   },
   "outputs": [
    {
     "name": "stdout",
     "output_type": "stream",
     "text": [
      "Success!\n"
     ]
    }
   ],
   "source": [
    "\n",
    "\n",
    "    let (x, y);\n",
    "    (x,..) = (3, 4);\n",
    "    [.., y] = [1, 2];\n",
    "    // Fill the blank to make the code work\n",
    "    assert_eq!([x,y], [3,2]);\n",
    "\n",
    "    println!(\"Success!\");\n",
    "\n"
   ]
  },
  {
   "cell_type": "code",
   "execution_count": 33,
   "id": "c4c16f4b",
   "metadata": {
    "vscode": {
     "languageId": "rust"
    }
   },
   "outputs": [
    {
     "name": "stdout",
     "output_type": "stream",
     "text": [
      "Success!\n"
     ]
    }
   ],
   "source": [
    "\n",
    "// Remove something to make it work\n",
    "    let x  = 5;\n",
    "    let mut y: u32 = 5;\n",
    "\n",
    "    y = x;\n",
    "    \n",
    "    let z = 10; // Type of z ? \n",
    "\n",
    "    println!(\"Success!\");\n",
    "\n"
   ]
  },
  {
   "cell_type": "code",
   "execution_count": 38,
   "id": "43e3cb58",
   "metadata": {
    "vscode": {
     "languageId": "rust"
    }
   },
   "outputs": [
    {
     "name": "stdout",
     "output_type": "stream",
     "text": [
      "Success!\n"
     ]
    }
   ],
   "source": [
    "\n",
    "// Get the type of given variable, return a string representation of the type  , e.g \"i8\", \"u8\", \"i32\", \"u32\"\n",
    "fn type_of<T>(_: &T) -> String {\n",
    "    format!(\"{}\", std::any::type_name::<T>())\n",
    "} \n",
    "\n",
    "// Modify `assert_eq!` to make it work\n",
    "\n",
    "    let x = 5;\n",
    "    assert_eq!(\"i32\".to_string(), type_of(&x));\n",
    "\n",
    "    println!(\"Success!\");\n",
    "\n",
    "\n",
    "\n"
   ]
  },
  {
   "attachments": {},
   "cell_type": "markdown",
   "id": "7657207f",
   "metadata": {},
   "source": [
    "# Tuple"
   ]
  },
  {
   "cell_type": "code",
   "execution_count": 2,
   "metadata": {
    "vscode": {
     "languageId": "rust"
    }
   },
   "outputs": [],
   "source": [
    "\n",
    "fn main() {\n",
    "    let _t0: (u8,i16) = (0, -1);\n",
    "    // Tuples can be tuple's members\n",
    "    let _t1: (u8, (i16, u32)) = (0, (-1, 1));\n",
    "    // Fill the blanks to make the code work\n",
    "    let t: (u8, u16, i64, &str, String) = (1u8, 2u16, 3i64, \"hello\", String::from(\", world\"));\n",
    "\n",
    "    println!(\"Success!\");\n",
    "}"
   ]
  },
  {
   "cell_type": "code",
   "execution_count": 3,
   "id": "8ea1f5c1",
   "metadata": {
    "vscode": {
     "languageId": "rust"
    }
   },
   "outputs": [],
   "source": [
    "\n",
    "// Make it work\n",
    "fn main() {\n",
    "    let t = (\"i\", \"am\", \"sunface\");\n",
    "    assert_eq!(t.2, \"sunface\");\n",
    "\n",
    "    println!(\"Success!\");\n",
    "}"
   ]
  },
  {
   "cell_type": "code",
   "execution_count": null,
   "id": "0466501f",
   "metadata": {
    "vscode": {
     "languageId": "rust"
    }
   },
   "outputs": [],
   "source": [
    "\n",
    "fn main() {\n",
    "    // Fill the blank, need a few computations here.\n",
    "    let (x, y) = sum_multiply((2,3));\n",
    "\n",
    "    assert_eq!(x, 5);\n",
    "    assert_eq!(y, 6);\n",
    "\n",
    "    println!(\"Success!\");\n",
    "}\n",
    "\n",
    "fn sum_multiply(nums: (i32, i32)) -> (i32, i32) {\n",
    "    (nums.0 + nums.1, nums.0 * nums.1)\n",
    "}\n"
   ]
  },
  {
   "attachments": {},
   "cell_type": "markdown",
   "id": "ad52cb27",
   "metadata": {},
   "source": [
    "# Struct"
   ]
  },
  {
   "cell_type": "code",
   "execution_count": null,
   "id": "7f83ee3c",
   "metadata": {
    "vscode": {
     "languageId": "rust"
    }
   },
   "outputs": [],
   "source": [
    "\n",
    "// Fix the error\n",
    "struct Person {\n",
    "    name: String,\n",
    "    age: u8,\n",
    "    hobby: String\n",
    "}\n",
    "fn main() {\n",
    "    let age = 30;\n",
    "    let p = Person {\n",
    "        name: String::from(\"sunface\"),\n",
    "        age,\n",
    "        hobby:String::from(\"Cricekt\")\n",
    "    };\n",
    "\n",
    "    println!(\"Success!\");\n",
    "} \n"
   ]
  },
  {
   "cell_type": "code",
   "execution_count": null,
   "id": "0c8fbccc",
   "metadata": {
    "vscode": {
     "languageId": "rust"
    }
   },
   "outputs": [],
   "source": [
    "\n",
    "struct Unit;\n",
    "trait SomeTrait {\n",
    "    // ...Some behaviors defined here.\n",
    "}\n",
    "\n",
    "// We don't care about what fields  are  in the Unit, but we care about its behaviors.\n",
    "// So we use a struct with no fields and implement some behaviors for it\n",
    "impl SomeTrait for Unit {  }\n",
    "fn main() {\n",
    "    let u = Unit;\n",
    "    do_something_with_unit(u);\n",
    "\n",
    "    println!(\"Success!\");\n",
    "} \n",
    "\n",
    "// Fill the blank to make the code work\n",
    "fn do_something_with_unit(u: Unit) {   }\n"
   ]
  },
  {
   "cell_type": "code",
   "execution_count": null,
   "id": "0554a12e",
   "metadata": {
    "vscode": {
     "languageId": "rust"
    }
   },
   "outputs": [],
   "source": [
    "\n",
    "// Fix the error and fill the blanks\n",
    "struct Color(i32, i32, i32);\n",
    "struct Point(i32, i32, i32);\n",
    "fn main() {\n",
    "    let v = Color(0 , 127, 255);\n",
    "    check_color(v);\n",
    "\n",
    "    println!(\"Success!\");\n",
    "}   \n",
    "\n",
    "fn check_color(p: Color) {\n",
    "    let Color(x, _, _) = p;\n",
    "    assert_eq!(x, 0);\n",
    "    assert_eq!(p.1, 127);\n",
    "    assert_eq!(p.2, 255);\n",
    " }\n"
   ]
  },
  {
   "cell_type": "code",
   "execution_count": null,
   "id": "54fa5341",
   "metadata": {
    "vscode": {
     "languageId": "rust"
    }
   },
   "outputs": [],
   "source": [
    "\n",
    "// Fill the blank and fix the error without adding/removing new line\n",
    "struct Person {\n",
    "    name: String,\n",
    "    age: u8,\n",
    "}\n",
    "fn main() {\n",
    "    let age = 18;\n",
    "    let mut p = Person {\n",
    "         name: String::from(\"sunface\"),\n",
    "        age,\n",
    "    };\n",
    "\n",
    "    // How can you believe sunface is only 18? \n",
    "    p.age = 30;\n",
    "\n",
    "    // Fill the blank\n",
    "    p.name = String::from(\"sunfei\");\n",
    "\n",
    "    println!(\"Success!\");\n",
    "}\n"
   ]
  },
  {
   "cell_type": "code",
   "execution_count": 2,
   "id": "c2012196",
   "metadata": {
    "vscode": {
     "languageId": "rust"
    }
   },
   "outputs": [],
   "source": [
    "\n",
    "// Fill the blank\n",
    "struct Person {\n",
    "    name: String,\n",
    "    age: u8,\n",
    "}\n",
    "fn main() {\n",
    "    println!(\"Success!\");\n",
    "} \n",
    "\n",
    "fn build_person(name: String, age: u8) -> Person {\n",
    "    Person {\n",
    "        age,\n",
    "        name\n",
    "    }\n",
    "}\n"
   ]
  },
  {
   "cell_type": "code",
   "execution_count": 3,
   "id": "c7a06b91",
   "metadata": {
    "vscode": {
     "languageId": "rust"
    }
   },
   "outputs": [],
   "source": [
    "\n",
    "// Fill the blank to make the code work\n",
    "struct User {\n",
    "    active: bool,\n",
    "    username: String,\n",
    "    email: String,\n",
    "    sign_in_count: u64,\n",
    "}\n",
    "fn main() {\n",
    "    let mut u1 = User {\n",
    "        email: String::from(\"someone@example.com\"),\n",
    "        username: String::from(\"sunface\"),\n",
    "        active: true,\n",
    "        sign_in_count: 1,\n",
    "    };\n",
    "\n",
    "    let u2 = set_email(u1);\n",
    "\n",
    "    println!(\"Success!\");\n",
    "} \n",
    "\n",
    "fn set_email(u: User) -> User {\n",
    "    User {\n",
    "        email: String::from(\"contact@im.dev\"),\n",
    "        ..u\n",
    "    }\n",
    "}\n"
   ]
  },
  {
   "cell_type": "code",
   "execution_count": null,
   "id": "de39621d",
   "metadata": {
    "vscode": {
     "languageId": "rust"
    }
   },
   "outputs": [],
   "source": [
    "\n",
    "// Fill the blanks to make the code work\n",
    "#[derive(Debug)]\n",
    "struct Rectangle {\n",
    "    width: u32,\n",
    "    height: u32,\n",
    "}\n",
    "\n",
    "fn main() {\n",
    "    let scale = 2;\n",
    "    let rect1 = Rectangle {\n",
    "        width: dbg!(30 * scale), // Print debug info to stderr and assign the value of  `30 * scale` to `width`\n",
    "        height: 50,\n",
    "    };\n",
    "\n",
    "    dbg!(&rect1); // Print debug info to stderr\n",
    "\n",
    "    println!(\"{:?}\", rect1); // Print debug info to stdout\n",
    "}\n"
   ]
  },
  {
   "cell_type": "code",
   "execution_count": 4,
   "id": "b38b6e76",
   "metadata": {
    "vscode": {
     "languageId": "rust"
    }
   },
   "outputs": [],
   "source": [
    "\n",
    "// Fix errors to make it work\n",
    "#[derive(Debug)]\n",
    "struct File {\n",
    "    name: String,\n",
    "    data: String,\n",
    "}\n",
    "fn main() {\n",
    "    let f = File {\n",
    "        name: String::from(\"readme.md\"),\n",
    "        data: \"Rust By Practice\".to_string()\n",
    "    };\n",
    "\n",
    "    let _name = f.name;\n",
    "\n",
    "    // ONLY modify this line\n",
    "    println!(\"{}\", f.data);\n",
    "} \n"
   ]
  },
  {
   "cell_type": "code",
   "execution_count": null,
   "id": "a8789cce",
   "metadata": {
    "vscode": {
     "languageId": "rust"
    }
   },
   "outputs": [],
   "source": []
  }
 ],
 "metadata": {
  "kernelspec": {
   "display_name": "Rust",
   "language": "rust",
   "name": "rust"
  },
  "language_info": {
   "codemirror_mode": "rust",
   "file_extension": ".rs",
   "mimetype": "text/rust",
   "name": "Rust",
   "pygment_lexer": "rust",
   "version": ""
  }
 },
 "nbformat": 4,
 "nbformat_minor": 5
}
